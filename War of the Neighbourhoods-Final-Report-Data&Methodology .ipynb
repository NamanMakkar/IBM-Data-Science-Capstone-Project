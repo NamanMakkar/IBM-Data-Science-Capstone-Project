{
    "nbformat_minor": 1, 
    "cells": [
        {
            "source": "<h1>BUISINESS RECOMMENDATION FOR THE CITY OF TORONTO</h1>", 
            "cell_type": "markdown", 
            "metadata": {
                "collapsed": true
            }
        }, 
        {
            "source": "<h3>INTRODUCTION</h3>", 
            "cell_type": "markdown", 
            "metadata": {}
        }, 
        {
            "source": "Running a business can be a very hectic job. The entrepreneurs have to take a variety of details into consideration, one of these details happens to be the location of their stores so as to attract an ample amount of customers. For example, if the owner of 'Nike' decides to put up shop right in front of an incredibly competitive store like 'Adidas', they might run into some unwanted competition with 'Adidas' which causes their sales to decrease. For this, it is prudent that the owner of 'Nike' chooses an area where they find little competition. Likewise, business owners could also run into trouble if their line of business is not popular at all in a particular area, i.e. there is very little consumer interest in their products in that particular area. Therefore, it is very important that business owners start their business in an area where their line of work is popular but not excessively popular (which increases competition) nor excessively unpopular (which lowers profits due to a lack of consumer interest). \n\nIn this project, we take the city of Toronto and we segment and cluster the various neighbourhoods of Toronto to find the best locations to start a small buisiness, for example - a restaurant,a toy store, a bank, a drugstore. ", 
            "cell_type": "markdown", 
            "metadata": {}
        }, 
        {
            "source": "<h3>THE PROBLEM AND THE PURPOSE OF THE PROJECT</h3>", 
            "cell_type": "markdown", 
            "metadata": {}
        }, 
        {
            "source": "Looking for data about the various business joints active in a particular Borough of Toronto is vital for the business owners looking to start a new line of stores. However, this is also extremely laborious and mundane. It is very difficult to gather much data about the various types of business joints active in a particular region and even harder to predict which Borough will ensure the most profits.The project makes it much easier for the business owners to gather knowledge about the number and types of businesses running and which Borough/Neighbourhood/area is appropriate for them to start a business. ", 
            "cell_type": "markdown", 
            "metadata": {}
        }, 
        {
            "source": "<h3>Target Audience</h3>", 
            "cell_type": "markdown", 
            "metadata": {}
        }, 
        {
            "source": "This project is aimed at the entrepreneurs looking to start a small business in the city of Toronto and are not aware of the unwanted competition they might run into with other business stores of the same kind.", 
            "cell_type": "markdown", 
            "metadata": {}
        }, 
        {
            "source": "<h3>DATA</h3>", 
            "cell_type": "markdown", 
            "metadata": {}
        }, 
        {
            "source": "The data used is the wikipedia page provided in Week-3 which happens to be the list of postcodes of Canada that start with an 'M'.\nURL:https://en.wikipedia.org/wiki/List_of_postal_codes_of_Canada:_M,\nFor the project, the data was web-scraped and converted to a pandas dataframe.", 
            "cell_type": "markdown", 
            "metadata": {}
        }, 
        {
            "source": "<h3> DATA ACCESSED FROM A THIRD PARTY APPLICATION - THE FOURSQUARE API</h3>", 
            "cell_type": "markdown", 
            "metadata": {}
        }, 
        {
            "source": "The Foursquare API enables developers to build applications that interact with the Foursquare platform.Foursquare City Guide, commonly known as Foursquare, is a local search-and-discovery mobile app which provides search results for its users. The app provides personalized recommendations of places to go near a user's current location based on users' previous browsing history and check-in history.\nFourSquare API has a rate limit for explore api of 500 regular calls/day when using the Personal Account.", 
            "cell_type": "markdown", 
            "metadata": {}
        }, 
        {
            "source": "<h3>METHODOLOGY</h3>", 
            "cell_type": "markdown", 
            "metadata": {}
        }, 
        {
            "source": "1. Data Wrangling -\nUnwanted data such as incomplete values of 'Not Assigned' were deleted from the table downloaded from wikipedia. A few columns were also omitted and at the end the only columns used were:(Postcode,Borough,Neighbourhood,Longitude,Latitude)", 
            "cell_type": "markdown", 
            "metadata": {}
        }, 
        {
            "source": "2. Exploratory Analysis - Multiple calls to the Foursquare API were made to get the nearby venues and they were plotted on the map.Furthermore, top 10 most common venues can be observed.\n", 
            "cell_type": "markdown", 
            "metadata": {}
        }, 
        {
            "source": "3. K- Means Clustering -This is used for the project after the exploratory analysis to cluster the neighbourhoods into various homogenous clusters on the basis of venue categories. The data is segmented into seperate clusters where the members of a cluster are similar to other members in the same cluster and different from members in a different cluster.", 
            "cell_type": "markdown", 
            "metadata": {}
        }, 
        {
            "source": "<h3>PROCEDURE</h3>", 
            "cell_type": "markdown", 
            "metadata": {}
        }, 
        {
            "source": "1.The data was scraped from the Wikipedia page and the table containing the columns of 'Postcode','Borough','Neighbourhood' was converted to a pandas data frame.", 
            "cell_type": "markdown", 
            "metadata": {}
        }, 
        {
            "source": "2.Data Wrangling was carried out on the pandas data frame and the values of 'Not Assigned' in column 'Borough' were removed.", 
            "cell_type": "markdown", 
            "metadata": {}
        }, 
        {
            "source": "3.Using a geolocator call 'Nominatim' , the values of the longitude and latitude (coordinates) of Toronto, Ontario were obtained.", 
            "cell_type": "markdown", 
            "metadata": {}
        }, 
        {
            "source": "4.After this , the various postcodes and boroughs were mapped using the 'Folium' library in python.", 
            "cell_type": "markdown", 
            "metadata": {}
        }, 
        {
            "source": "5.Next, a connection to the Foursquare API was established to make calls to the API. This required the user to provide the 'CLIENT_ID','CLIENT_SECRET','VERSION','LIMIT','RADIUS','neighbourhood_latitude',  'neighbourhood_longitude'", 
            "cell_type": "markdown", 
            "metadata": {}
        }, 
        {
            "source": "6.The Foursquare API was then used to get nearby venues and also to group venues on the basis of their categories in a column called 'Venue Category'.", 
            "cell_type": "markdown", 
            "metadata": {}
        }, 
        {
            "source": "7.Next, we create the so - called 'one-hot columns' for each venue category which gives us the frequencies of the categories in each neighbourhood, so as to determine the various categories in each neighbourhood and to also determine the most popular venue categories in each neighbourhood.\n\n", 
            "cell_type": "markdown", 
            "metadata": {}
        }, 
        {
            "source": "8.We then create a data frame that contains the 10 most popular venues in each neighbourhood.", 
            "cell_type": "markdown", 
            "metadata": {}
        }, 
        {
            "source": "9.After this, we have to cluster the neighbourhoods using a Machine Learning algorithm called 'K-Means Clustering' and taking 3 clusters for an accurate result. This allowed us to group various neighbourhoods into different clusters based on the similarity of their popular venues. After which, we plot the map, showing the 3 clusters using 3 different colours, namely- red, purple and green.", 
            "cell_type": "markdown", 
            "metadata": {}
        }, 
        {
            "source": "<h3>RESULTS AND DISCUSSIONS</h3>", 
            "cell_type": "markdown", 
            "metadata": {}
        }, 
        {
            "source": "Cluster 1 (Colour - Red) - We can observe that the most common venues of the boroughs of cluster 1 happen to be - coffee shops, cafes, fast food restaurants, Pizza-places, Indian restaurants, Latin - American restaurants, Japanese restaurants and bakeries. These tend to be incredibly popular. Whereas , venues like drugstores, donut shops, diner restaurants are unpopular, dim-sum restaurants and dumpling restaurants being mildly unpopular. It would therefore be ideal to start  businesses like opening drugstores ,  pharmacies,  gyms, yoga studios or even opening parks and hotels. It is also not a bad idea to open up a dumpling restaurant or a dim-sum restaurant.\n\nCluster 2 (Colour - Purple) - On observation it can be noted that pizza places, parks and playgrounds are incredibly popular among the boroughs of cluster 2. Yoga studios and dumpling restaurants being mildly popular. Drugstores and donut shops happen to be incredibly unpopular. New businesses like convenience stores, yoga studios and playgrounds are bound to be incredibly successful.\n\nCluster 3 (Colour - Green) - This cluster includes only 2 boroughs, namely- 'North York' and 'Etobicoke'. In both the boroughs, baseball fields and yoga studios happen to be incredibly popular while dumpling restaurants, dim - sum restaurants and East-European restaurants tend to be incredibly unpopular. For these boroughs, businesses like managing a discount store or opening and managing a yoga studio should be successful and ideal.\n\n", 
            "cell_type": "markdown", 
            "metadata": {}
        }, 
        {
            "source": "<h3>CONCLUSION</h3>", 
            "cell_type": "markdown", 
            "metadata": {}
        }, 
        {
            "source": "\u00a7Clustering the area based on the venue categories allows us to gather ample information regarding the most popular places in a particular borough.\n\n\u00a7The target audience can then use this information for calculating the amount of competition in a particular area and the consumer demand in that area to start a business in the area of their choice .\n\n", 
            "cell_type": "markdown", 
            "metadata": {}
        }
    ], 
    "metadata": {
        "kernelspec": {
            "display_name": "Python 3.5", 
            "name": "python3", 
            "language": "python"
        }, 
        "language_info": {
            "mimetype": "text/x-python", 
            "nbconvert_exporter": "python", 
            "version": "3.5.5", 
            "name": "python", 
            "pygments_lexer": "ipython3", 
            "file_extension": ".py", 
            "codemirror_mode": {
                "version": 3, 
                "name": "ipython"
            }
        }
    }, 
    "nbformat": 4
}