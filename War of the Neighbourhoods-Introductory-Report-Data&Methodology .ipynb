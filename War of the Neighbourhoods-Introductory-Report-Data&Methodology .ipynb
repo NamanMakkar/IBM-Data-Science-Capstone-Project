{
    "nbformat_minor": 1, 
    "cells": [
        {
            "source": "<h1>BUISINESS RECOMMENDATION FOR THE CITY OF TORONTO</h1>", 
            "cell_type": "markdown", 
            "metadata": {
                "collapsed": true
            }
        }, 
        {
            "source": "<h3>INTRODUCTION</h3>", 
            "cell_type": "markdown", 
            "metadata": {}
        }, 
        {
            "source": "Running a business can be a very hectic job. The entrepreneurs have to take a variety of details into consideration, one of these details happens to be the location of their stores so as to attract an ample amount of customers. For example, if the owner of 'Nike' decides to put up shop right in front of an incredibly competitive store like 'Adidas', they might run into some unwanted competition with 'Adidas' which causes their sales to decrease. For this, it is prudent that the owner of 'Nike' chooses an area where they find little to no competition.\n\nIn this project, we take the city of Toronto and we segment and cluster the various neighbourhoods of Toronto to find the best locations to start a small buisiness, for example - a restaurant,a toy store, a bank, a drugstore. ", 
            "cell_type": "markdown", 
            "metadata": {}
        }, 
        {
            "source": "<h3>THE PROBLEM AND THE PURPOSE OF THE PROJECT</h3>", 
            "cell_type": "markdown", 
            "metadata": {}
        }, 
        {
            "source": "Looking for data about the various business joints active in a particular Borough of Toronto is vital for the business owners looking to start a new line of stores. However, this is also extremely laborious and mundane. It is very difficult to gather much data about the various types of business joints active in a particular region and even harder to predict which Borough will ensure the most profits.The project makes it much easier for the business owners to gather knowledge about the number and types of businesses running and which Borough/Neighbourhood/area is appropriate for them to start a business. ", 
            "cell_type": "markdown", 
            "metadata": {}
        }, 
        {
            "source": "<h3>Target Audience</h3>", 
            "cell_type": "markdown", 
            "metadata": {}
        }, 
        {
            "source": "This project is aimed at the entrepreneurs looking to start a small business in the city of Toronto and are not aware of the unwanted competition they might run into with other business stores of the same kind.", 
            "cell_type": "markdown", 
            "metadata": {}
        }, 
        {
            "source": "<h3>DATA</h3>", 
            "cell_type": "markdown", 
            "metadata": {}
        }, 
        {
            "source": "The data used is the wikipedia page provided in Week-3 which happens to be the list of postcodes of Canada that start with an 'M'.\nURL:https://en.wikipedia.org/wiki/List_of_postal_codes_of_Canada:_M,\nFor the project, the data was web-scraped and converted to a pandas dataframe.", 
            "cell_type": "markdown", 
            "metadata": {}
        }, 
        {
            "source": "<h3> DATA ACCESSED FROM A THIRD PARTY APPLICATION - THE FOURSQUARE API</h3>", 
            "cell_type": "markdown", 
            "metadata": {}
        }, 
        {
            "source": "The Foursquare API enables developers to build applications that interact with the Foursquare platform.Foursquare City Guide, commonly known as Foursquare, is a local search-and-discovery mobile app which provides search results for its users. The app provides personalized recommendations of places to go near a user's current location based on users' previous browsing history and check-in history.\nFourSquare API has a rate limit for explore api of 500 regular calls/day when using the Personal Account.", 
            "cell_type": "markdown", 
            "metadata": {}
        }, 
        {
            "source": "<h3>METHODOLOGY</h3>", 
            "cell_type": "markdown", 
            "metadata": {}
        }, 
        {
            "source": "1. Data Wrangling -\nUnwanted data such as incomplete values of 'Not Assigned' were deleted from the table downloaded from wikipedia. A few columns were also omitted and at the end the only columns used were:(Postcode,Borough,Neighbourhood,Longitude,Latitude)", 
            "cell_type": "markdown", 
            "metadata": {}
        }, 
        {
            "source": "2. Exploratory Analysis - Multiple calls to the Foursquare API were made to get the nearby venues and they were plotted on the map.Furthermore, top 10 most common venues can be observed.\n", 
            "cell_type": "markdown", 
            "metadata": {}
        }, 
        {
            "source": "3. K- Means Clustering -This is used for the project after the exploratory analysis to cluster the neighbourhoods into various homogenous clusters on the basis of venue categories. The data is segmented into seperate clusters where the members of a cluster are similar to other members in the same cluster and different from members in a different cluster.", 
            "cell_type": "markdown", 
            "metadata": {}
        }
    ], 
    "metadata": {
        "kernelspec": {
            "display_name": "Python 3.5", 
            "name": "python3", 
            "language": "python"
        }, 
        "language_info": {
            "mimetype": "text/x-python", 
            "nbconvert_exporter": "python", 
            "version": "3.5.5", 
            "name": "python", 
            "file_extension": ".py", 
            "pygments_lexer": "ipython3", 
            "codemirror_mode": {
                "version": 3, 
                "name": "ipython"
            }
        }
    }, 
    "nbformat": 4
}