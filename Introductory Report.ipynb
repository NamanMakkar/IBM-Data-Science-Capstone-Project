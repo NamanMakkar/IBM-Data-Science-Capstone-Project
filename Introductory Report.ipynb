{
    "nbformat_minor": 1, 
    "cells": [
        {
            "source": "<h1> Buying and Renting Property in Edinburgh </h1>", 
            "cell_type": "markdown", 
            "metadata": {
                "collapsed": true
            }
        }, 
        {
            "source": "<h3> INTRODUCTION </h3>", 
            "cell_type": "markdown", 
            "metadata": {}
        }, 
        {
            "source": "It is a very difficult job to look for houses to buy and for this project we take the example of Edinburgh. Where you live in Edinbugh will have a huge\nimpact on the land value. For instance, a property in the business areas of Edinburgh could possibly cost a six digit figure whereas, a sub urban area of Edinburgh would be much more affordable.", 
            "cell_type": "markdown", 
            "metadata": {}
        }, 
        {
            "source": "<h3>PROBLEMS AND THE PURPOSE OF THE PROJECT</h3>", 
            "cell_type": "markdown", 
            "metadata": {}
        }, 
        {
            "source": "Certain websites would help you with searching for your house, but narrowing down the area to live in is a laborious and mundane task. Furthermore, they do not show the nearby attractions or the distinct neighbourhood areas. This project helps in the process of searching for a new house by providing relevant and quality information.", 
            "cell_type": "markdown", 
            "metadata": {}
        }
    ], 
    "metadata": {
        "kernelspec": {
            "display_name": "Python 3.5", 
            "name": "python3", 
            "language": "python"
        }, 
        "language_info": {
            "mimetype": "text/x-python", 
            "nbconvert_exporter": "python", 
            "version": "3.5.5", 
            "name": "python", 
            "pygments_lexer": "ipython3", 
            "file_extension": ".py", 
            "codemirror_mode": {
                "version": 3, 
                "name": "ipython"
            }
        }
    }, 
    "nbformat": 4
}