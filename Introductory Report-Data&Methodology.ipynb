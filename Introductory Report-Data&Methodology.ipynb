{
    "nbformat_minor": 1, 
    "cells": [
        {
            "source": "<h1> Buying and Renting Property in Edinburgh </h1>", 
            "cell_type": "markdown", 
            "metadata": {
                "collapsed": true
            }
        }, 
        {
            "source": "<h3> INTRODUCTION </h3>", 
            "cell_type": "markdown", 
            "metadata": {}
        }, 
        {
            "source": "It is a very difficult job to look for houses to buy and for this project we take the example of Edinburgh. Where you live in Edinbugh will have a huge\nimpact on the land value. For instance, a property in the business areas of Edinburgh could possibly cost a six digit figure whereas, a sub urban area of Edinburgh would be much more affordable.", 
            "cell_type": "markdown", 
            "metadata": {}
        }, 
        {
            "source": "<h3>PROBLEMS AND THE PURPOSE OF THE PROJECT</h3>", 
            "cell_type": "markdown", 
            "metadata": {}
        }, 
        {
            "source": "Certain websites would help you with searching for your house, but narrowing down the area to live in is a laborious and mundane task. Furthermore, they do not show the nearby attractions or the distinct neighbourhood areas. This project helps in the process of searching for a new house by providing relevant and quality information.", 
            "cell_type": "markdown", 
            "metadata": {}
        }, 
        {
            "source": "<h3>DATA</h3>", 
            "cell_type": "markdown", 
            "metadata": {}
        }, 
        {
            "source": "<h5>The City of Edinburgh Postcodes were used for this project</h5>", 
            "cell_type": "markdown", 
            "metadata": {}
        }, 
        {
            "source": "The data downloaded from doogal.co.uk contains all postcodes from the City of Edinburgh and the main focus of the project is the City Centre ward of Edinburgh in order to minimize the calls to the FourSquare API. URL:https://www.doogal.co.uk/AdministrativeAreasCSV.ashx?district=S12000036.", 
            "cell_type": "markdown", 
            "metadata": {}
        }, 
        {
            "source": "import pandas as pd\nfile = 'https://www.doogal.co.uk/AdministrativeAreasCSV.ashx?district=S12000036'\ndf = pd.read_csv(file)", 
            "cell_type": "code", 
            "metadata": {}, 
            "outputs": [], 
            "execution_count": 5
        }, 
        {
            "source": "df.head()", 
            "cell_type": "code", 
            "metadata": {}, 
            "outputs": [
                {
                    "output_type": "execute_result", 
                    "data": {
                        "text/plain": "  Postcode In Use?   Latitude  Longitude  Easting  Northing  Grid Ref  \\\n0  EH1 1AA      No  55.953650  -3.188106   325910    674039  NT259740   \n1  EH1 1AD     Yes  55.949135  -3.192773   325610    673542  NT256735   \n2  EH1 1AE     Yes  55.949033  -3.189375   325822    673527  NT258735   \n3  EH1 1AF      No  55.960382  -3.176699   326635    674776  NT266747   \n4  EH1 1AL      No  55.953214  -3.186811   325990    673989  NT259739   \n\n          Ward  Parish  Introduced  Terminated  Altitude   Country  \\\n0  City Centre     NaN  1980-01-01  1996-12-01        71  Scotland   \n1  City Centre     NaN  2009-06-01         NaN        95  Scotland   \n2  City Centre     NaN  2018-09-01         NaN        87  Scotland   \n3   Leith Walk     NaN  2004-11-01  2009-04-01        29  Scotland   \n4  City Centre     NaN  1986-12-01  1996-12-01        65  Scotland   \n\n  Last Updated                                            Quality  LSOA Code  \n0   2019-05-29  Postcode terminated prior to Gridlink initiati...  S01008676  \n1   2019-05-29  Within the building of the matched address clo...  S01008674  \n2   2019-05-29  Within the building of the matched address clo...  S01008678  \n3   2019-05-29  Within the building of the matched address clo...  S01008806  \n4   2019-05-29  Postcode terminated prior to Gridlink initiati...  S01008676  ", 
                        "text/html": "<div>\n<style scoped>\n    .dataframe tbody tr th:only-of-type {\n        vertical-align: middle;\n    }\n\n    .dataframe tbody tr th {\n        vertical-align: top;\n    }\n\n    .dataframe thead th {\n        text-align: right;\n    }\n</style>\n<table border=\"1\" class=\"dataframe\">\n  <thead>\n    <tr style=\"text-align: right;\">\n      <th></th>\n      <th>Postcode</th>\n      <th>In Use?</th>\n      <th>Latitude</th>\n      <th>Longitude</th>\n      <th>Easting</th>\n      <th>Northing</th>\n      <th>Grid Ref</th>\n      <th>Ward</th>\n      <th>Parish</th>\n      <th>Introduced</th>\n      <th>Terminated</th>\n      <th>Altitude</th>\n      <th>Country</th>\n      <th>Last Updated</th>\n      <th>Quality</th>\n      <th>LSOA Code</th>\n    </tr>\n  </thead>\n  <tbody>\n    <tr>\n      <th>0</th>\n      <td>EH1 1AA</td>\n      <td>No</td>\n      <td>55.953650</td>\n      <td>-3.188106</td>\n      <td>325910</td>\n      <td>674039</td>\n      <td>NT259740</td>\n      <td>City Centre</td>\n      <td>NaN</td>\n      <td>1980-01-01</td>\n      <td>1996-12-01</td>\n      <td>71</td>\n      <td>Scotland</td>\n      <td>2019-05-29</td>\n      <td>Postcode terminated prior to Gridlink initiati...</td>\n      <td>S01008676</td>\n    </tr>\n    <tr>\n      <th>1</th>\n      <td>EH1 1AD</td>\n      <td>Yes</td>\n      <td>55.949135</td>\n      <td>-3.192773</td>\n      <td>325610</td>\n      <td>673542</td>\n      <td>NT256735</td>\n      <td>City Centre</td>\n      <td>NaN</td>\n      <td>2009-06-01</td>\n      <td>NaN</td>\n      <td>95</td>\n      <td>Scotland</td>\n      <td>2019-05-29</td>\n      <td>Within the building of the matched address clo...</td>\n      <td>S01008674</td>\n    </tr>\n    <tr>\n      <th>2</th>\n      <td>EH1 1AE</td>\n      <td>Yes</td>\n      <td>55.949033</td>\n      <td>-3.189375</td>\n      <td>325822</td>\n      <td>673527</td>\n      <td>NT258735</td>\n      <td>City Centre</td>\n      <td>NaN</td>\n      <td>2018-09-01</td>\n      <td>NaN</td>\n      <td>87</td>\n      <td>Scotland</td>\n      <td>2019-05-29</td>\n      <td>Within the building of the matched address clo...</td>\n      <td>S01008678</td>\n    </tr>\n    <tr>\n      <th>3</th>\n      <td>EH1 1AF</td>\n      <td>No</td>\n      <td>55.960382</td>\n      <td>-3.176699</td>\n      <td>326635</td>\n      <td>674776</td>\n      <td>NT266747</td>\n      <td>Leith Walk</td>\n      <td>NaN</td>\n      <td>2004-11-01</td>\n      <td>2009-04-01</td>\n      <td>29</td>\n      <td>Scotland</td>\n      <td>2019-05-29</td>\n      <td>Within the building of the matched address clo...</td>\n      <td>S01008806</td>\n    </tr>\n    <tr>\n      <th>4</th>\n      <td>EH1 1AL</td>\n      <td>No</td>\n      <td>55.953214</td>\n      <td>-3.186811</td>\n      <td>325990</td>\n      <td>673989</td>\n      <td>NT259739</td>\n      <td>City Centre</td>\n      <td>NaN</td>\n      <td>1986-12-01</td>\n      <td>1996-12-01</td>\n      <td>65</td>\n      <td>Scotland</td>\n      <td>2019-05-29</td>\n      <td>Postcode terminated prior to Gridlink initiati...</td>\n      <td>S01008676</td>\n    </tr>\n  </tbody>\n</table>\n</div>"
                    }, 
                    "execution_count": 6, 
                    "metadata": {}
                }
            ], 
            "execution_count": 6
        }, 
        {
            "source": "<h3>METHODOLOGY</h3>", 
            "cell_type": "markdown", 
            "metadata": {}
        }, 
        {
            "source": "1.Data Wrangling:\nOnly a few columns from the entire dataset are taken into consideration, namely:(Postcode,Latitude, Longitude and Ward). Every postcode in Edinburgh is divided into district and sector and a new column for sector is also created.", 
            "cell_type": "markdown", 
            "metadata": {}
        }, 
        {
            "source": "2.Analysis:\nAll the sectors are plotted on the map and then two different clusters based on the venue categories provided by Foursquare API data are created and then, the top five venues in each sector can be explored.\n", 
            "cell_type": "markdown", 
            "metadata": {}
        }, 
        {
            "source": "3.K-Means Clustering: This is used for the project after the exploratory analysis to cluster the postcodes into various homogenous clusters on the basis of venue categories. The data is segmented into seperate clusters where the members of a cluster are similar to other members i", 
            "cell_type": "markdown", 
            "metadata": {}
        }
    ], 
    "metadata": {
        "kernelspec": {
            "display_name": "Python 3.5", 
            "name": "python3", 
            "language": "python"
        }, 
        "language_info": {
            "mimetype": "text/x-python", 
            "nbconvert_exporter": "python", 
            "version": "3.5.5", 
            "name": "python", 
            "pygments_lexer": "ipython3", 
            "file_extension": ".py", 
            "codemirror_mode": {
                "version": 3, 
                "name": "ipython"
            }
        }
    }, 
    "nbformat": 4
}